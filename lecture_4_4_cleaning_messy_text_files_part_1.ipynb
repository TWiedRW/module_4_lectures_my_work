{
 "cells": [
  {
   "cell_type": "markdown",
   "metadata": {},
   "source": [
    "# Lecture 4.4 - Basics of cleaning messy text files \n",
    "## Part 1 - Getting the know the file and removing unwanted lines\n",
    "\n",
    "In this lecture, we will go over a number of cases of messy data, and how to use Python to fix these problems.  This includes\n",
    "\n",
    "1. Use VSCode to inspect the file and identify problems.\n",
    "1. Removing unwanted lines."
   ]
  },
  {
   "cell_type": "markdown",
   "metadata": {},
   "source": [
    "## Example - 9/11 Deaths \n",
    "\n",
    "I have included a file named `911_Deaths.csv`.  Download this file from D2L and open it in VScode.  Be sure to turn on **View > Render Whitespace**, which I find useful when working with messy data."
   ]
  },
  {
   "cell_type": "markdown",
   "metadata": {},
   "source": [
    "> Information on different lines\n",
    "> Appears to have page numbers\n",
    "> "
   ]
  },
  {
   "cell_type": "markdown",
   "metadata": {},
   "source": [
    "## Reading in the lines of the file\n",
    "\n",
    "I have included a file named `911_Deaths.csv`.  Open this file and split the body into a list called `lines`."
   ]
  },
  {
   "cell_type": "code",
   "execution_count": 11,
   "metadata": {},
   "outputs": [
    {
     "ename": "SyntaxError",
     "evalue": "invalid syntax (<ipython-input-11-a74eab102435>, line 1)",
     "output_type": "error",
     "traceback": [
      "\u001b[0;36m  File \u001b[0;32m\"<ipython-input-11-a74eab102435>\"\u001b[0;36m, line \u001b[0;32m1\u001b[0m\n\u001b[0;31m    with open('911_Deaths.csv', ',') as lines\u001b[0m\n\u001b[0m                                             ^\u001b[0m\n\u001b[0;31mSyntaxError\u001b[0m\u001b[0;31m:\u001b[0m invalid syntax\n"
     ]
    }
   ],
   "source": [
    "with open('911_Deaths.csv', ',') as lines\n",
    "    "
   ]
  },
  {
   "cell_type": "markdown",
   "metadata": {},
   "source": [
    "## Step 1: Remove any extraneous lines"
   ]
  },
  {
   "cell_type": "code",
   "execution_count": 1,
   "metadata": {},
   "outputs": [
    {
     "ename": "NameError",
     "evalue": "name 'lines' is not defined",
     "output_type": "error",
     "traceback": [
      "\u001b[0;31m---------------------------------------------------------------------------\u001b[0m",
      "\u001b[0;31mNameError\u001b[0m                                 Traceback (most recent call last)",
      "\u001b[0;32m<ipython-input-1-0509d31f6d65>\u001b[0m in \u001b[0;36m<module>\u001b[0;34m\u001b[0m\n\u001b[0;32m----> 1\u001b[0;31m \u001b[0mexample_w_extra\u001b[0m \u001b[0;34m=\u001b[0m \u001b[0mlines\u001b[0m\u001b[0;34m[\u001b[0m\u001b[0;36m96\u001b[0m\u001b[0;34m:\u001b[0m\u001b[0;36m107\u001b[0m\u001b[0;34m]\u001b[0m\u001b[0;34m\u001b[0m\u001b[0;34m\u001b[0m\u001b[0m\n\u001b[0m\u001b[1;32m      2\u001b[0m \u001b[0mexample_w_extra\u001b[0m\u001b[0;34m\u001b[0m\u001b[0;34m\u001b[0m\u001b[0m\n",
      "\u001b[0;31mNameError\u001b[0m: name 'lines' is not defined"
     ]
    }
   ],
   "source": [
    "example_w_extra = lines[96:107]\n",
    "example_w_extra"
   ]
  },
  {
   "cell_type": "markdown",
   "metadata": {},
   "source": [
    "## Methods for removing extra lines.\n",
    "\n",
    "* `strip` and check for a length of 0\n",
    "* Check if some substring is `in` the line.\n",
    "* Create a regular expression to match the line type"
   ]
  },
  {
   "cell_type": "markdown",
   "metadata": {},
   "source": [
    "<h2> <font color=\"red\"> Exercise 4.4.2 </font> </h2>\n",
    "\n",
    "Rewrite a predicate function (i.e. Boolean lambda) called `is_blank` that returns `True` for blank lines and `False` otherwise."
   ]
  },
  {
   "cell_type": "code",
   "execution_count": 85,
   "metadata": {},
   "outputs": [
    {
     "data": {
      "text/plain": [
       "''"
      ]
     },
     "execution_count": 85,
     "metadata": {},
     "output_type": "execute_result"
    }
   ],
   "source": [
    "example_blank_line = lines[99]\n",
    "example_blank_line"
   ]
  },
  {
   "cell_type": "code",
   "execution_count": 82,
   "metadata": {},
   "outputs": [],
   "source": [
    "is_blank = lambda l: True if len(l.strip()) == 0\n"
   ]
  },
  {
   "cell_type": "markdown",
   "metadata": {},
   "source": [
    "<h2> <font color=\"red\"> Exercise 4.4.3 </font> </h2>\n",
    "\n",
    "Rewrite a predicate function called `is_page_num_line` that returns `True` for the page number lines and `False` otherwise."
   ]
  },
  {
   "cell_type": "code",
   "execution_count": 87,
   "metadata": {},
   "outputs": [
    {
     "data": {
      "text/plain": [
       "'\\t\\t\\t\\t\\t\\t\\t\\t\\t\\t1 of 91'"
      ]
     },
     "execution_count": 87,
     "metadata": {},
     "output_type": "execute_result"
    }
   ],
   "source": [
    "example_page_num_line = lines[101]\n",
    "example_page_num_line"
   ]
  },
  {
   "cell_type": "code",
   "execution_count": 82,
   "metadata": {},
   "outputs": [],
   "source": [
    "# Your code here"
   ]
  },
  {
   "cell_type": "markdown",
   "metadata": {},
   "source": [
    "<h2> <font color=\"red\"> Exercise 4.4.4 </font> </h2>\n",
    "\n",
    "Identify some situation were your approach might fail."
   ]
  },
  {
   "cell_type": "markdown",
   "metadata": {},
   "source": [
    "> Your answer here"
   ]
  },
  {
   "cell_type": "markdown",
   "metadata": {},
   "source": [
    "## Be as specific as possible\n",
    "\n",
    "When removing lines, be very specific so you don't lose data!"
   ]
  },
  {
   "cell_type": "markdown",
   "metadata": {},
   "source": [
    "<h2> <font color=\"red\"> Exercise 4.4.5 </font> </h2>\n",
    "\n",
    "Complete the following steps."
   ]
  },
  {
   "cell_type": "markdown",
   "metadata": {},
   "source": [
    "#### Describe the pattern in words"
   ]
  },
  {
   "cell_type": "code",
   "execution_count": 87,
   "metadata": {},
   "outputs": [
    {
     "data": {
      "text/plain": [
       "'\\t\\t\\t\\t\\t\\t\\t\\t\\t\\t1 of 91'"
      ]
     },
     "execution_count": 87,
     "metadata": {},
     "output_type": "execute_result"
    }
   ],
   "source": [
    "example_page_num_line = lines[101]\n",
    "example_page_num_line"
   ]
  },
  {
   "cell_type": "markdown",
   "metadata": {},
   "source": [
    "> Your description here"
   ]
  },
  {
   "cell_type": "markdown",
   "metadata": {},
   "source": [
    "#### Write a regular expression to `match` the problem"
   ]
  },
  {
   "cell_type": "code",
   "execution_count": 6,
   "metadata": {},
   "outputs": [],
   "source": [
    "# Your code here\n",
    "import re\n",
    "#example_w_extra[5]\n",
    "\n",
    "r = re.compile(r'\\t+\\d+ of \\d+')"
   ]
  },
  {
   "cell_type": "markdown",
   "metadata": {},
   "source": [
    "#### Why is `match` better than `search` for this task?"
   ]
  },
  {
   "cell_type": "markdown",
   "metadata": {},
   "source": [
    "> Match is more specific than search and therefore safer"
   ]
  },
  {
   "cell_type": "markdown",
   "metadata": {},
   "source": [
    "## Combining the two predicate functions"
   ]
  },
  {
   "cell_type": "code",
   "execution_count": 62,
   "metadata": {},
   "outputs": [],
   "source": [
    "needs_removal = lambda l: is_blank(l) or is_page_num_line(l)"
   ]
  },
  {
   "cell_type": "code",
   "execution_count": 63,
   "metadata": {},
   "outputs": [
    {
     "data": {
      "text/plain": [
       "[('Terrance Andre Aiken', False),\n",
       " (' 30', False),\n",
       " (' Marsh&McLennan consultant, World Trade Center.', False),\n",
       " ('', True),\n",
       " ('', True),\n",
       " ('\\t\\t\\t\\t\\t\\t\\t\\t\\t\\t1 of 91', True),\n",
       " ('', True),\n",
       " ('', True),\n",
       " ('Godwin O. Ajala', False),\n",
       " (' 33', False),\n",
       " (' Summit Security Services, Inc., World Trade Center, died 9/15/01.', False)]"
      ]
     },
     "execution_count": 63,
     "metadata": {},
     "output_type": "execute_result"
    }
   ],
   "source": [
    "[(l, needs_removal(l)) for l in example_w_extra ]"
   ]
  },
  {
   "cell_type": "markdown",
   "metadata": {},
   "source": [
    "#### Removing the extraneous lines"
   ]
  },
  {
   "cell_type": "code",
   "execution_count": 64,
   "metadata": {
    "scrolled": true
   },
   "outputs": [
    {
     "data": {
      "text/plain": [
       "['Gordon M. Aamoth, Jr.',\n",
       " ' 32',\n",
       " \" Sandler O'Neill + Partners, World Trade Center.\",\n",
       " 'Edelmiro Abad',\n",
       " ' 54',\n",
       " ' Brooklyn, N.Y., Fiduciary Trust Company International, World Trade Center.',\n",
       " 'Marie Rose Abad',\n",
       " ' 49',\n",
       " ' Keefe, Bruyette&Woods, Inc., World Trade Center.',\n",
       " 'Andrew Anthony Abate',\n",
       " ' 37',\n",
       " ' Melville, N.Y., Cantor Fitzgerald, World Trade Center.',\n",
       " 'Vincent Paul Abate',\n",
       " ' 40',\n",
       " ' Brooklyn, N.Y., Cantor Fitzgerald, World Trade Center.',\n",
       " 'Laurence Christopher Abel',\n",
       " ' 37',\n",
       " ' New York City, Cantor Fitzgerald, World Trade Center.',\n",
       " 'Alona Abraham',\n",
       " ' 30',\n",
       " ' Ashdod, Israel, Passenger, United 175, World Trade Center.',\n",
       " 'William F. Abrahamson',\n",
       " ' 55',\n",
       " ' Westchester County, N.Y., Marsh&McLennan Companies, Inc., World Trade Center.',\n",
       " 'Richard Anthony Aceto',\n",
       " ' 42',\n",
       " ' Marsh&McLennan Companies, Inc., World Trade Center.',\n",
       " 'Heinrich Bernhard Ackermann',\n",
       " ' 38',\n",
       " ' Aon Corporation, World Trade Center.',\n",
       " 'Paul Acquaviva',\n",
       " ' 29',\n",
       " ' Glen Rock, N.J., Cantor Fitzgerald, World Trade Center.',\n",
       " 'Christian Adams',\n",
       " ' 37',\n",
       " ' Passenger, United 93, Shanksville, Pa.',\n",
       " 'Donald LaRoy Adams',\n",
       " ' 28',\n",
       " ' Cantor Fitzgerald, World Trade Center.',\n",
       " 'Patrick Adams',\n",
       " ' 61',\n",
       " ' Fuji Bank, Ltd. security, World Trade Center.',\n",
       " 'Shannon Lewis Adams',\n",
       " ' 25',\n",
       " ' Cantor Fitzgerald, World Trade Center.',\n",
       " 'Stephen George Adams',\n",
       " ' 51',\n",
       " ' New York City, Windows on the World, World Trade Center.',\n",
       " 'Ignatius Udo Adanga',\n",
       " ' 62',\n",
       " ' Bronx, N.Y., New York Metropolitan Transportation Council, World Trade Center.',\n",
       " 'Christy A. Addamo',\n",
       " ' 28',\n",
       " ' New Hyde Park, N.Y., Marsh&McLennan Companies, Inc., World Trade Center.',\n",
       " 'Terence Edward Adderley, Jr.',\n",
       " ' 22',\n",
       " ' New York City, Fred Alger Management, Inc., World Trade Center.',\n",
       " 'Sophia B. Addo',\n",
       " ' 36',\n",
       " ' Bronx, N.Y., Windows on the World, World Trade Center.',\n",
       " 'Lee Adler',\n",
       " ' 48',\n",
       " ' Cantor Fitzgerald, World Trade Center.',\n",
       " 'Daniel Thomas Afflitto',\n",
       " ' 32',\n",
       " ' Manalapan, N.J., Cantor Fitzgerald, World Trade Center.',\n",
       " 'Emmanuel Akwasi Afuakwah',\n",
       " ' 37',\n",
       " ' Windows on the World, World Trade Center.',\n",
       " 'Alok Agarwal',\n",
       " ' 36',\n",
       " ' Cantor Fitzgerald, World Trade Center.',\n",
       " 'Mukul Kumar Agarwala',\n",
       " ' 37',\n",
       " ' Fiduciary Trust Company International, World Trade Center.',\n",
       " 'Joseph Agnello',\n",
       " ' 35',\n",
       " ' Belle Harbor, N.Y., New York City Fire Department, World Trade Center.',\n",
       " 'David Scott Agnes',\n",
       " ' 46',\n",
       " ' Port Washington, N.Y., Cantor Fitzgerald, World Trade Center.',\n",
       " 'Joao Alberto da Fonseca Aguiar, Jr.',\n",
       " ' 30',\n",
       " ' Hoboken, N.J., Keefe, Bruyette&Woods, Inc., World Trade Center.',\n",
       " 'Brian G. Ahearn',\n",
       " ' 43',\n",
       " ' Huntington, N.Y., New York City Fire Department, World Trade Center.',\n",
       " 'Jeremiah Joseph Ahern',\n",
       " ' 74',\n",
       " ' New Jersey, New York State Department of Taxation and Finance, World Trade Center.',\n",
       " 'Joanne Marie Ahladiotis',\n",
       " ' 27',\n",
       " ' Forest Hills, N.Y., Cantor Fitzgerald, World Trade Center.',\n",
       " 'Shabbir Ahmed',\n",
       " ' 47',\n",
       " ' Brooklyn, N.Y., Windows on the World, World Trade Center.',\n",
       " 'Terrance Andre Aiken',\n",
       " ' 30',\n",
       " ' Marsh&McLennan consultant, World Trade Center.',\n",
       " 'Godwin O. Ajala']"
      ]
     },
     "execution_count": 64,
     "metadata": {},
     "output_type": "execute_result"
    }
   ],
   "source": [
    "#This one is not better\n",
    "culled_lines = [l for l in lines if not needs_removal(l)]\n",
    "culled_lines[:100]"
   ]
  },
  {
   "cell_type": "code",
   "execution_count": 89,
   "metadata": {
    "scrolled": true
   },
   "outputs": [
    {
     "data": {
      "text/plain": [
       "['Gordon M. Aamoth, Jr.',\n",
       " ' 32',\n",
       " \" Sandler O'Neill + Partners, World Trade Center.\",\n",
       " 'Edelmiro Abad',\n",
       " ' 54',\n",
       " ' Brooklyn, N.Y., Fiduciary Trust Company International, World Trade Center.',\n",
       " 'Marie Rose Abad',\n",
       " ' 49',\n",
       " ' Keefe, Bruyette&Woods, Inc., World Trade Center.',\n",
       " 'Andrew Anthony Abate',\n",
       " ' 37',\n",
       " ' Melville, N.Y., Cantor Fitzgerald, World Trade Center.',\n",
       " 'Vincent Paul Abate',\n",
       " ' 40',\n",
       " ' Brooklyn, N.Y., Cantor Fitzgerald, World Trade Center.',\n",
       " 'Laurence Christopher Abel',\n",
       " ' 37',\n",
       " ' New York City, Cantor Fitzgerald, World Trade Center.',\n",
       " 'Alona Abraham',\n",
       " ' 30',\n",
       " ' Ashdod, Israel, Passenger, United 175, World Trade Center.',\n",
       " 'William F. Abrahamson',\n",
       " ' 55',\n",
       " ' Westchester County, N.Y., Marsh&McLennan Companies, Inc., World Trade Center.',\n",
       " 'Richard Anthony Aceto',\n",
       " ' 42',\n",
       " ' Marsh&McLennan Companies, Inc., World Trade Center.',\n",
       " 'Heinrich Bernhard Ackermann',\n",
       " ' 38',\n",
       " ' Aon Corporation, World Trade Center.',\n",
       " 'Paul Acquaviva',\n",
       " ' 29',\n",
       " ' Glen Rock, N.J., Cantor Fitzgerald, World Trade Center.',\n",
       " 'Christian Adams',\n",
       " ' 37',\n",
       " ' Passenger, United 93, Shanksville, Pa.',\n",
       " 'Donald LaRoy Adams',\n",
       " ' 28',\n",
       " ' Cantor Fitzgerald, World Trade Center.',\n",
       " 'Patrick Adams',\n",
       " ' 61',\n",
       " ' Fuji Bank, Ltd. security, World Trade Center.',\n",
       " 'Shannon Lewis Adams',\n",
       " ' 25',\n",
       " ' Cantor Fitzgerald, World Trade Center.',\n",
       " 'Stephen George Adams',\n",
       " ' 51',\n",
       " ' New York City, Windows on the World, World Trade Center.',\n",
       " 'Ignatius Udo Adanga',\n",
       " ' 62',\n",
       " ' Bronx, N.Y., New York Metropolitan Transportation Council, World Trade Center.',\n",
       " 'Christy A. Addamo',\n",
       " ' 28',\n",
       " ' New Hyde Park, N.Y., Marsh&McLennan Companies, Inc., World Trade Center.',\n",
       " 'Terence Edward Adderley, Jr.',\n",
       " ' 22',\n",
       " ' New York City, Fred Alger Management, Inc., World Trade Center.',\n",
       " 'Sophia B. Addo',\n",
       " ' 36',\n",
       " ' Bronx, N.Y., Windows on the World, World Trade Center.',\n",
       " 'Lee Adler',\n",
       " ' 48',\n",
       " ' Cantor Fitzgerald, World Trade Center.',\n",
       " 'Daniel Thomas Afflitto',\n",
       " ' 32',\n",
       " ' Manalapan, N.J., Cantor Fitzgerald, World Trade Center.',\n",
       " 'Emmanuel Akwasi Afuakwah',\n",
       " ' 37',\n",
       " ' Windows on the World, World Trade Center.',\n",
       " 'Alok Agarwal',\n",
       " ' 36',\n",
       " ' Cantor Fitzgerald, World Trade Center.',\n",
       " 'Mukul Kumar Agarwala',\n",
       " ' 37',\n",
       " ' Fiduciary Trust Company International, World Trade Center.',\n",
       " 'Joseph Agnello',\n",
       " ' 35',\n",
       " ' Belle Harbor, N.Y., New York City Fire Department, World Trade Center.',\n",
       " 'David Scott Agnes',\n",
       " ' 46',\n",
       " ' Port Washington, N.Y., Cantor Fitzgerald, World Trade Center.',\n",
       " 'Joao Alberto da Fonseca Aguiar, Jr.',\n",
       " ' 30',\n",
       " ' Hoboken, N.J., Keefe, Bruyette&Woods, Inc., World Trade Center.',\n",
       " 'Brian G. Ahearn',\n",
       " ' 43',\n",
       " ' Huntington, N.Y., New York City Fire Department, World Trade Center.',\n",
       " 'Jeremiah Joseph Ahern',\n",
       " ' 74',\n",
       " ' New Jersey, New York State Department of Taxation and Finance, World Trade Center.',\n",
       " 'Joanne Marie Ahladiotis',\n",
       " ' 27',\n",
       " ' Forest Hills, N.Y., Cantor Fitzgerald, World Trade Center.',\n",
       " 'Shabbir Ahmed',\n",
       " ' 47',\n",
       " ' Brooklyn, N.Y., Windows on the World, World Trade Center.',\n",
       " 'Terrance Andre Aiken',\n",
       " ' 30',\n",
       " ' Marsh&McLennan consultant, World Trade Center.',\n",
       " 'Godwin O. Ajala']"
      ]
     },
     "execution_count": 89,
     "metadata": {},
     "output_type": "execute_result"
    }
   ],
   "source": [
    "keep_line = lambda l: not needs_removal(l)\n",
    "culled_lines = [l for l in lines if keep_line(l)]\n",
    "culled_lines[:100]"
   ]
  },
  {
   "cell_type": "markdown",
   "metadata": {},
   "source": [
    "## Which reads better?"
   ]
  },
  {
   "cell_type": "code",
   "execution_count": 94,
   "metadata": {},
   "outputs": [],
   "source": [
    "culled_lines = [l for l in lines if not needs_removal(l)]\n",
    "culled_lines = [l for l in lines if keep_line(l)]"
   ]
  },
  {
   "cell_type": "markdown",
   "metadata": {},
   "source": [
    "#### Make it a function!"
   ]
  },
  {
   "cell_type": "code",
   "execution_count": 67,
   "metadata": {},
   "outputs": [],
   "source": [
    "culled_lines = [l for l in lines if keep_line(l)]"
   ]
  },
  {
   "cell_type": "code",
   "execution_count": 9,
   "metadata": {},
   "outputs": [
    {
     "name": "stdout",
     "output_type": "stream",
     "text": [
      "Collecting composable\n",
      "  Downloading composable-0.1.3-py3-none-any.whl (3.7 kB)\n",
      "Collecting python-forge<19.0,>=18.6\n",
      "  Downloading python_forge-18.6.0-py35-none-any.whl (31 kB)\n",
      "Requirement already satisfied: toolz<0.11.0,>=0.10.0 in /Users/dm6258xw/opt/anaconda3/lib/python3.8/site-packages (from composable) (0.10.0)\n",
      "Installing collected packages: python-forge, composable\n",
      "Successfully installed composable-0.1.3 python-forge-18.6.0\n"
     ]
    },
    {
     "ename": "NameError",
     "evalue": "name 'lines' is not defined",
     "output_type": "error",
     "traceback": [
      "\u001b[0;31m---------------------------------------------------------------------------\u001b[0m",
      "\u001b[0;31mNameError\u001b[0m                                 Traceback (most recent call last)",
      "\u001b[0;32m<ipython-input-9-909023a05eeb>\u001b[0m in \u001b[0;36m<module>\u001b[0;34m\u001b[0m\n\u001b[1;32m      3\u001b[0m \u001b[0;32mfrom\u001b[0m \u001b[0mcomposable\u001b[0m \u001b[0;32mimport\u001b[0m \u001b[0mpipeable\u001b[0m\u001b[0;34m\u001b[0m\u001b[0;34m\u001b[0m\u001b[0m\n\u001b[1;32m      4\u001b[0m \u001b[0mcull_lines\u001b[0m \u001b[0;34m=\u001b[0m \u001b[0mpipeable\u001b[0m\u001b[0;34m(\u001b[0m\u001b[0;32mlambda\u001b[0m \u001b[0mL\u001b[0m\u001b[0;34m:\u001b[0m \u001b[0;34m[\u001b[0m\u001b[0ml\u001b[0m \u001b[0;32mfor\u001b[0m \u001b[0ml\u001b[0m \u001b[0;32min\u001b[0m \u001b[0mL\u001b[0m \u001b[0;32mif\u001b[0m \u001b[0mkeep_line\u001b[0m\u001b[0;34m(\u001b[0m\u001b[0ml\u001b[0m\u001b[0;34m)\u001b[0m\u001b[0;34m]\u001b[0m\u001b[0;34m)\u001b[0m\u001b[0;34m\u001b[0m\u001b[0;34m\u001b[0m\u001b[0m\n\u001b[0;32m----> 5\u001b[0;31m \u001b[0mculled_lines\u001b[0m \u001b[0;34m=\u001b[0m \u001b[0mcull_lines\u001b[0m\u001b[0;34m(\u001b[0m\u001b[0mlines\u001b[0m\u001b[0;34m)\u001b[0m\u001b[0;34m\u001b[0m\u001b[0;34m\u001b[0m\u001b[0m\n\u001b[0m\u001b[1;32m      6\u001b[0m \u001b[0mculled_lines\u001b[0m\u001b[0;34m[\u001b[0m\u001b[0;34m:\u001b[0m\u001b[0;36m5\u001b[0m\u001b[0;34m]\u001b[0m\u001b[0;34m\u001b[0m\u001b[0;34m\u001b[0m\u001b[0m\n",
      "\u001b[0;31mNameError\u001b[0m: name 'lines' is not defined"
     ]
    }
   ],
   "source": [
    "# Key\n",
    "!pip install composable\n",
    "from composable import pipeable\n",
    "cull_lines = pipeable(lambda L: [l for l in L if keep_line(l)])\n",
    "culled_lines = cull_lines(lines)\n",
    "culled_lines[:5]"
   ]
  },
  {
   "cell_type": "markdown",
   "metadata": {},
   "source": [
    "# Clean Code Rule\n",
    "\n",
    "### *When writing Boolean expressions, avoid negatives whenever possible.*"
   ]
  },
  {
   "cell_type": "markdown",
   "metadata": {},
   "source": [
    "<h2> <font color=\"red\"> Exercise 4.4.5 -- Saving our work </font> </h2>\n",
    "\n",
    "Now we will save our work by writing our progress to a text file.\n",
    "\n",
    "Complete the following steps."
   ]
  },
  {
   "cell_type": "markdown",
   "metadata": {},
   "source": [
    "#### Step 1 -- `'\\n'` join the `culled_lines`"
   ]
  },
  {
   "cell_type": "code",
   "execution_count": 90,
   "metadata": {},
   "outputs": [],
   "source": [
    "# Your code here"
   ]
  },
  {
   "cell_type": "markdown",
   "metadata": {},
   "source": [
    "#### Step 2 -- Write the string to a file called `911_deaths_extra_removed.csv`"
   ]
  },
  {
   "cell_type": "code",
   "execution_count": 91,
   "metadata": {},
   "outputs": [],
   "source": [
    "# Your code here"
   ]
  }
 ],
 "metadata": {
  "kernelspec": {
   "display_name": "Python 3",
   "language": "python",
   "name": "python3"
  },
  "language_info": {
   "codemirror_mode": {
    "name": "ipython",
    "version": 3
   },
   "file_extension": ".py",
   "mimetype": "text/x-python",
   "name": "python",
   "nbconvert_exporter": "python",
   "pygments_lexer": "ipython3",
   "version": "3.8.3"
  }
 },
 "nbformat": 4,
 "nbformat_minor": 2
}
